{
 "cells": [
  {
   "cell_type": "code",
   "execution_count": 212,
   "metadata": {
    "scrolled": false
   },
   "outputs": [
    {
     "name": "stderr",
     "output_type": "stream",
     "text": [
      "[nltk_data] Downloading package stopwords to\n",
      "[nltk_data]     C:\\Users\\Sjred\\AppData\\Roaming\\nltk_data...\n",
      "[nltk_data]   Package stopwords is already up-to-date!\n"
     ]
    },
    {
     "data": {
      "text/plain": [
       "True"
      ]
     },
     "execution_count": 212,
     "metadata": {},
     "output_type": "execute_result"
    }
   ],
   "source": [
    "import pandas as pd\n",
    "import numpy as np\n",
    "import nltk\n",
    "nltk.download('stopwords')"
   ]
  },
  {
   "cell_type": "markdown",
   "metadata": {},
   "source": [
    "## Part 0: Import Speech Data"
   ]
  },
  {
   "cell_type": "code",
   "execution_count": 195,
   "metadata": {},
   "outputs": [],
   "source": [
    "debate = open(\"C:/Users/Sjred/Desktop/MSBA/Spring 20/CMSE202/repositories/CMSE202_Final/Debate_Scrape/Debates/2008/Obama_McCain_101508.txt\", encoding=\"utf8\").read().split()\n",
    "positive = open(\"C:/Users/Sjred/Desktop/MSBA/Spring 20/CMSE202/repositories/CMSE202_Final/Debate_Scrape/Debates/positive-words.txt\").read().split()\n",
    "negative = open(\"C:/Users/Sjred/Desktop/MSBA/Spring 20/CMSE202/repositories/CMSE202_Final/Debate_Scrape/Debates/negative-words.txt\").read().split()"
   ]
  },
  {
   "cell_type": "markdown",
   "metadata": {},
   "source": [
    "## Part 1: Separation Of Moderator, And The Two Candidates"
   ]
  },
  {
   "cell_type": "code",
   "execution_count": 196,
   "metadata": {},
   "outputs": [],
   "source": [
    "mod_list = []\n",
    "can1_list = []\n",
    "can2_list = []\n",
    "\n",
    "i_new = -1\n",
    "i_old = -1\n",
    "while i_new >= -len(debate):\n",
    "    if debate[i_new] == 'SCHIEFFER:':\n",
    "        mod_list += debate[i_new:]\n",
    "        del debate[i_new:i_old]\n",
    "        i_old = i_new\n",
    "\n",
    "    elif debate[i_new] == 'OBAMA:':\n",
    "        can1_list += debate[i_new:]\n",
    "        del debate[i_new:i_old]\n",
    "        i_old = i_new\n",
    "\n",
    "    elif debate[i_new] == 'MCCAIN:':\n",
    "        can2_list += debate[i_new:]\n",
    "        del debate[i_new:i_old]\n",
    "        i_old = i_new\n",
    "\n",
    "    else: pass\n",
    "    i_new -= 1"
   ]
  },
  {
   "cell_type": "markdown",
   "metadata": {},
   "source": [
    "## Part 2: Removal Of Stop Words"
   ]
  },
  {
   "cell_type": "code",
   "execution_count": 197,
   "metadata": {},
   "outputs": [],
   "source": [
    "stop_words = nltk.corpus.stopwords.words('english')"
   ]
  },
  {
   "cell_type": "code",
   "execution_count": 198,
   "metadata": {},
   "outputs": [],
   "source": [
    "can1_list = [x for x in can1_list if x not in stop_words]\n",
    "can2_list = [x for x in can2_list if x not in stop_words]"
   ]
  },
  {
   "cell_type": "markdown",
   "metadata": {},
   "source": [
    "## Part 3: Sentiment Analysis"
   ]
  },
  {
   "cell_type": "code",
   "execution_count": 199,
   "metadata": {},
   "outputs": [],
   "source": [
    "can1_pos = [x for x in can1_list if x in positive]\n",
    "can1_neg = [x for x in can1_list if x in negative]\n",
    "can2_pos = [x for x in can2_list if x in positive]\n",
    "can2_neg = [x for x in can2_list if x in negative]"
   ]
  },
  {
   "cell_type": "code",
   "execution_count": 200,
   "metadata": {
    "scrolled": false
   },
   "outputs": [
    {
     "name": "stdout",
     "output_type": "stream",
     "text": [
      "Candidate One Total Positive: 2558\n",
      "Candidate Two Total Positive: 2648\n",
      "Candidate One Total Negative: 1231\n",
      "Candidate Two Total Negative: 1263\n",
      "Candidate One Total Sentiment: 3789\n",
      "Candidate Two Total Sentiment: 3911\n"
     ]
    }
   ],
   "source": [
    "print('Candidate One Total Positive:', len(can1_pos))\n",
    "print('Candidate Two Total Positive:', len(can2_pos))\n",
    "print('Candidate One Total Negative:', len(can1_neg))\n",
    "print('Candidate Two Total Negative:', len(can2_neg))\n",
    "print('Candidate One Total Sentiment:', len(can1_pos)+len(can1_neg))\n",
    "print('Candidate Two Total Sentiment:', len(can2_pos)+len(can2_neg))"
   ]
  },
  {
   "cell_type": "code",
   "execution_count": 211,
   "metadata": {},
   "outputs": [
    {
     "data": {
      "text/html": [
       "<div>\n",
       "<style scoped>\n",
       "    .dataframe tbody tr th:only-of-type {\n",
       "        vertical-align: middle;\n",
       "    }\n",
       "\n",
       "    .dataframe tbody tr th {\n",
       "        vertical-align: top;\n",
       "    }\n",
       "\n",
       "    .dataframe thead th {\n",
       "        text-align: right;\n",
       "    }\n",
       "</style>\n",
       "<table border=\"1\" class=\"dataframe\">\n",
       "  <thead>\n",
       "    <tr style=\"text-align: right;\">\n",
       "      <th></th>\n",
       "      <th>Election_Year</th>\n",
       "      <th>Debate_Date</th>\n",
       "      <th>Candidate_Name</th>\n",
       "      <th>Affiliation</th>\n",
       "      <th>Positive_Words</th>\n",
       "      <th>Negative_Words</th>\n",
       "      <th>Total_Sentiment</th>\n",
       "    </tr>\n",
       "  </thead>\n",
       "  <tbody>\n",
       "    <tr>\n",
       "      <td>0</td>\n",
       "      <td>2000</td>\n",
       "      <td>10/3/2000</td>\n",
       "      <td>George W. Bush</td>\n",
       "      <td>R</td>\n",
       "      <td>3517</td>\n",
       "      <td>1574</td>\n",
       "      <td>5091</td>\n",
       "    </tr>\n",
       "    <tr>\n",
       "      <td>1</td>\n",
       "      <td>2000</td>\n",
       "      <td>10/3/2000</td>\n",
       "      <td>Albert A. Gore</td>\n",
       "      <td>D</td>\n",
       "      <td>3235</td>\n",
       "      <td>1443</td>\n",
       "      <td>4678</td>\n",
       "    </tr>\n",
       "    <tr>\n",
       "      <td>2</td>\n",
       "      <td>2000</td>\n",
       "      <td>10/11/2000</td>\n",
       "      <td>George W. Bush</td>\n",
       "      <td>R</td>\n",
       "      <td>3168</td>\n",
       "      <td>1945</td>\n",
       "      <td>5113</td>\n",
       "    </tr>\n",
       "    <tr>\n",
       "      <td>3</td>\n",
       "      <td>2000</td>\n",
       "      <td>10/11/2000</td>\n",
       "      <td>Albert A. Gore</td>\n",
       "      <td>D</td>\n",
       "      <td>2710</td>\n",
       "      <td>1785</td>\n",
       "      <td>4495</td>\n",
       "    </tr>\n",
       "    <tr>\n",
       "      <td>4</td>\n",
       "      <td>2000</td>\n",
       "      <td>10/17/2000</td>\n",
       "      <td>George W. Bush</td>\n",
       "      <td>R</td>\n",
       "      <td>3488</td>\n",
       "      <td>1316</td>\n",
       "      <td>4804</td>\n",
       "    </tr>\n",
       "    <tr>\n",
       "      <td>5</td>\n",
       "      <td>2000</td>\n",
       "      <td>10/17/2000</td>\n",
       "      <td>Albert A. Gore</td>\n",
       "      <td>D</td>\n",
       "      <td>3200</td>\n",
       "      <td>1231</td>\n",
       "      <td>4431</td>\n",
       "    </tr>\n",
       "    <tr>\n",
       "      <td>6</td>\n",
       "      <td>2004</td>\n",
       "      <td>9/30/2004</td>\n",
       "      <td>George W. Bush</td>\n",
       "      <td>R</td>\n",
       "      <td>3182</td>\n",
       "      <td>1450</td>\n",
       "      <td>4632</td>\n",
       "    </tr>\n",
       "    <tr>\n",
       "      <td>7</td>\n",
       "      <td>2004</td>\n",
       "      <td>9/30/2004</td>\n",
       "      <td>John F. Kerry</td>\n",
       "      <td>D</td>\n",
       "      <td>2967</td>\n",
       "      <td>1322</td>\n",
       "      <td>4289</td>\n",
       "    </tr>\n",
       "    <tr>\n",
       "      <td>8</td>\n",
       "      <td>2004</td>\n",
       "      <td>10/8/2004</td>\n",
       "      <td>George W. Bush</td>\n",
       "      <td>R</td>\n",
       "      <td>2927</td>\n",
       "      <td>2017</td>\n",
       "      <td>4944</td>\n",
       "    </tr>\n",
       "    <tr>\n",
       "      <td>9</td>\n",
       "      <td>2004</td>\n",
       "      <td>10/8/2004</td>\n",
       "      <td>John F. Kerry</td>\n",
       "      <td>D</td>\n",
       "      <td>2864</td>\n",
       "      <td>1942</td>\n",
       "      <td>4806</td>\n",
       "    </tr>\n",
       "    <tr>\n",
       "      <td>10</td>\n",
       "      <td>2004</td>\n",
       "      <td>10/13/2004</td>\n",
       "      <td>George W. Bush</td>\n",
       "      <td>R</td>\n",
       "      <td>3139</td>\n",
       "      <td>1160</td>\n",
       "      <td>4299</td>\n",
       "    </tr>\n",
       "    <tr>\n",
       "      <td>11</td>\n",
       "      <td>2004</td>\n",
       "      <td>10/13/2004</td>\n",
       "      <td>John F. Kerry</td>\n",
       "      <td>D</td>\n",
       "      <td>3175</td>\n",
       "      <td>1166</td>\n",
       "      <td>4341</td>\n",
       "    </tr>\n",
       "    <tr>\n",
       "      <td>12</td>\n",
       "      <td>2008</td>\n",
       "      <td>9/26/2008</td>\n",
       "      <td>Barack H. Obama</td>\n",
       "      <td>D</td>\n",
       "      <td>2384</td>\n",
       "      <td>2031</td>\n",
       "      <td>4415</td>\n",
       "    </tr>\n",
       "    <tr>\n",
       "      <td>13</td>\n",
       "      <td>2008</td>\n",
       "      <td>9/26/2008</td>\n",
       "      <td>John S. McCain</td>\n",
       "      <td>R</td>\n",
       "      <td>2117</td>\n",
       "      <td>1831</td>\n",
       "      <td>3948</td>\n",
       "    </tr>\n",
       "    <tr>\n",
       "      <td>14</td>\n",
       "      <td>2008</td>\n",
       "      <td>10/7/2008</td>\n",
       "      <td>Barack H. Obama</td>\n",
       "      <td>D</td>\n",
       "      <td>2158</td>\n",
       "      <td>1264</td>\n",
       "      <td>3422</td>\n",
       "    </tr>\n",
       "    <tr>\n",
       "      <td>15</td>\n",
       "      <td>2008</td>\n",
       "      <td>10/7/2008</td>\n",
       "      <td>John S. McCain</td>\n",
       "      <td>R</td>\n",
       "      <td>1993</td>\n",
       "      <td>1114</td>\n",
       "      <td>3107</td>\n",
       "    </tr>\n",
       "    <tr>\n",
       "      <td>16</td>\n",
       "      <td>2008</td>\n",
       "      <td>10/15/2008</td>\n",
       "      <td>Barack H. Obama</td>\n",
       "      <td>D</td>\n",
       "      <td>2558</td>\n",
       "      <td>1231</td>\n",
       "      <td>3789</td>\n",
       "    </tr>\n",
       "    <tr>\n",
       "      <td>17</td>\n",
       "      <td>2008</td>\n",
       "      <td>10/15/2008</td>\n",
       "      <td>John S. McCain</td>\n",
       "      <td>R</td>\n",
       "      <td>2648</td>\n",
       "      <td>1263</td>\n",
       "      <td>3911</td>\n",
       "    </tr>\n",
       "  </tbody>\n",
       "</table>\n",
       "</div>"
      ],
      "text/plain": [
       "    Election_Year Debate_Date    Candidate_Name Affiliation  Positive_Words  \\\n",
       "0            2000   10/3/2000    George W. Bush           R            3517   \n",
       "1            2000   10/3/2000    Albert A. Gore           D            3235   \n",
       "2            2000  10/11/2000    George W. Bush           R            3168   \n",
       "3            2000  10/11/2000    Albert A. Gore           D            2710   \n",
       "4            2000  10/17/2000    George W. Bush           R            3488   \n",
       "5            2000  10/17/2000    Albert A. Gore           D            3200   \n",
       "6            2004   9/30/2004    George W. Bush           R            3182   \n",
       "7            2004   9/30/2004     John F. Kerry           D            2967   \n",
       "8            2004   10/8/2004    George W. Bush           R            2927   \n",
       "9            2004   10/8/2004     John F. Kerry           D            2864   \n",
       "10           2004  10/13/2004    George W. Bush           R            3139   \n",
       "11           2004  10/13/2004     John F. Kerry           D            3175   \n",
       "12           2008   9/26/2008  Barack H. Obama            D            2384   \n",
       "13           2008   9/26/2008    John S. McCain           R            2117   \n",
       "14           2008   10/7/2008  Barack H. Obama            D            2158   \n",
       "15           2008   10/7/2008    John S. McCain           R            1993   \n",
       "16           2008  10/15/2008  Barack H. Obama            D            2558   \n",
       "17           2008  10/15/2008    John S. McCain           R            2648   \n",
       "\n",
       "    Negative_Words  Total_Sentiment  \n",
       "0             1574             5091  \n",
       "1             1443             4678  \n",
       "2             1945             5113  \n",
       "3             1785             4495  \n",
       "4             1316             4804  \n",
       "5             1231             4431  \n",
       "6             1450             4632  \n",
       "7             1322             4289  \n",
       "8             2017             4944  \n",
       "9             1942             4806  \n",
       "10            1160             4299  \n",
       "11            1166             4341  \n",
       "12            2031             4415  \n",
       "13            1831             3948  \n",
       "14            1264             3422  \n",
       "15            1114             3107  \n",
       "16            1231             3789  \n",
       "17            1263             3911  "
      ]
     },
     "execution_count": 211,
     "metadata": {},
     "output_type": "execute_result"
    }
   ],
   "source": [
    "Sentiment = pd.read_csv('SentimentData_00-08.csv')\n",
    "Sentiment"
   ]
  }
 ],
 "metadata": {
  "kernelspec": {
   "display_name": "Python 3",
   "language": "python",
   "name": "python3"
  },
  "language_info": {
   "codemirror_mode": {
    "name": "ipython",
    "version": 3
   },
   "file_extension": ".py",
   "mimetype": "text/x-python",
   "name": "python",
   "nbconvert_exporter": "python",
   "pygments_lexer": "ipython3",
   "version": "3.7.3"
  }
 },
 "nbformat": 4,
 "nbformat_minor": 2
}
