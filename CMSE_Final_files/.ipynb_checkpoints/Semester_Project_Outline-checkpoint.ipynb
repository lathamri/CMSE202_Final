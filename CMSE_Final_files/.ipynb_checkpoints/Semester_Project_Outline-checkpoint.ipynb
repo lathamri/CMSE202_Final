{
 "cells": [
  {
   "cell_type": "markdown",
   "metadata": {},
   "source": [
    "# CMSE 202: Semester Group Project"
   ]
  },
  {
   "cell_type": "markdown",
   "metadata": {},
   "source": [
    "**Section:** 003"
   ]
  },
  {
   "cell_type": "markdown",
   "metadata": {},
   "source": [
    "**Group Members:** \n",
    "* Himali Bhandar:Model \n",
    "* Amanda Bowerman: Model\n",
    "* Blake Stewart: Speech processing- Monday 4/6 \n",
    "* Jalin Lewis: Results \n",
    "* Matthew Sitto: Control variables dataframe (data collection)- Monday 4/6\n",
    "* Riley Latham: Speech Processing  - Monday 4/6\n",
    "* Alexis Morse: Results\n"
   ]
  },
  {
   "cell_type": "markdown",
   "metadata": {},
   "source": [
    "## Statement of the Probelm - Everyone"
   ]
  },
  {
   "cell_type": "markdown",
   "metadata": {},
   "source": [
    "As a group, we have decided to investigate US Presidential candidate speeches through US history and their possible correlation with approval rates. We want to do sentiment analysis on these candidate speeches (most probably Presidential debate speeches) and after making a thorough analysis of these speeches we want to compare the approval rates of the candidate before, on the day of, and after the debate to see the impact of the debate speech. \n",
    "\n",
    "We basically want to determine the winner of an election using the speech and also analyze why did a particular candidate win.\n",
    "\n",
    "We might even include fundraising data of each candidate and see how that relates to the speech made by the candidate. \n",
    "\n",
    "NOTE: This problem statement is tentative, we might make some changes later on when we decide specifics of our model and our final data sources.\n",
    "\n",
    "**STATEMENT OF THE PROBLEM: How much, quantitatively, do the presidential election debates affect the outcome of a presidential election?**"
   ]
  },
  {
   "cell_type": "markdown",
   "metadata": {},
   "source": [
    "## Data - Riley, Blake and Matt"
   ]
  },
  {
   "cell_type": "markdown",
   "metadata": {},
   "source": [
    "Some possible links we might use in our project are:\n",
    "* Debates : https://www.debates.org/voter-education/debate-transcripts/\n",
    "* Election outcomes: https://www.presidency.ucsb.edu/statistics/elections\n",
    "* Some control variables: https://www.presidency.ucsb.edu/statistics/data\n",
    "* Approval ratings (RealClearPolitics): https://www.realclearpolitics.com/epolls/2008/president/us/general_election_mccain_vs_obama-225.html\n",
    "* Approval ratings (WikiWand): https://www.wikiwand.com/en/United_States_presidential_approval_rating#/Historical_comparison"
   ]
  },
  {
   "cell_type": "markdown",
   "metadata": {},
   "source": [
    "## Model - Himali & Amanda"
   ]
  },
  {
   "cell_type": "markdown",
   "metadata": {},
   "source": [
    "We are planning to use Sentiment Analysis on the speeches. Sentiment analysis is a common NLP (Natural Language  task, which involves classifying texts or parts of texts into a pre-defined sentiment.\n",
    "\n",
    "As a prerequiste for the model, we still have yet to decide on one or more pre-defined sentiments that we are going to use in our model. \n",
    "\n",
    "Some Python methods that will be included in this model are: numpy, matplotlib, seaborn, pandas, sklearn.\n",
    "\n",
    "This pre-defined sentiment and comparison with approval rates of the candidate will possibly part of our evaluation crtieria."
   ]
  },
  {
   "cell_type": "markdown",
   "metadata": {},
   "source": [
    "## Results - Alexis & Jalin"
   ]
  },
  {
   "cell_type": "markdown",
   "metadata": {},
   "source": [
    "Our results will possibly be declaring one candidate from a debate a winner. \n",
    "\n",
    "And we might also include some regression analysis on how sentiments from different speeches have behaved throughtout the US Presidential elections. \n",
    "\n",
    "The results section is heavily dependent on what type of model we decide to do. Thats why, we haven't actually come up with anything concrete in this section yet."
   ]
  },
  {
   "cell_type": "markdown",
   "metadata": {},
   "source": [
    "## Conclusions - Everyone"
   ]
  },
  {
   "cell_type": "markdown",
   "metadata": {},
   "source": [
    "Some issues we might run into are:\n",
    "\n",
    "* Finding proper data without any inconsistencies for both the speeches and approval rates.\n",
    "* Deciding on an appropriate pre-defined sentiment.\n",
    "* Likely issues in the actual word processing. \n",
    "\n"
   ]
  },
  {
   "cell_type": "code",
   "execution_count": 2,
   "metadata": {},
   "outputs": [
    {
     "name": "stderr",
     "output_type": "stream",
     "text": [
      "[nltk_data] Downloading package stopwords to\n",
      "[nltk_data]     /home/bowerm37/nltk_data...\n",
      "[nltk_data]   Package stopwords is already up-to-date!\n"
     ]
    }
   ],
   "source": [
    "from Machine_Learning_KNN import predict"
   ]
  },
  {
   "cell_type": "code",
   "execution_count": null,
   "metadata": {},
   "outputs": [],
   "source": [
    "predict(3,0.4)"
   ]
  },
  {
   "cell_type": "code",
   "execution_count": null,
   "metadata": {},
   "outputs": [],
   "source": []
  }
 ],
 "metadata": {
  "kernelspec": {
   "display_name": "Python 3",
   "language": "python",
   "name": "python3"
  },
  "language_info": {
   "codemirror_mode": {
    "name": "ipython",
    "version": 3
   },
   "file_extension": ".py",
   "mimetype": "text/x-python",
   "name": "python",
   "nbconvert_exporter": "python",
   "pygments_lexer": "ipython3",
   "version": "3.7.3"
  }
 },
 "nbformat": 4,
 "nbformat_minor": 2
}
