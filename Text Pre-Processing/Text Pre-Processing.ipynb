{
 "cells": [
  {
   "cell_type": "code",
   "execution_count": 138,
   "metadata": {},
   "outputs": [],
   "source": [
    "# Standard Includes\n",
    "import numpy as np\n",
    "import re"
   ]
  },
  {
   "cell_type": "code",
   "execution_count": 139,
   "metadata": {},
   "outputs": [],
   "source": [
    "class pre_process():\n",
    "    def __init__(self, filename):\n",
    "        self.filename = filename\n",
    "    \n",
    "    def get_data(self):\n",
    "        \"\"\"Get our data from some csv file. The file should be a csv.\n",
    "        Each cell should be a string and each string should be one entire speech.\n",
    "        Must be run prior to clean().\"\"\"\n",
    "        # Load our csv as strings\n",
    "        self.data = np.loadtxt(self.filename, dtype=str, delimiter=',')\n",
    "        return list(self.data)\n",
    "    \n",
    "    def clean(self):\n",
    "        \"\"\"Takes in our data and strips all unnecessary characters.\"\"\"\n",
    "        # Characters to remove\n",
    "        remove = re.compile(r\"[\\'\\\"\\\\\\!\\,\\/\\;\\{\\}\\[\\.\\]]\")\n",
    "        remove_names = re.compile(r'(TRUMP:) (CLINTON:) (HOLT:)')\n",
    "        # List to store clean speeches\n",
    "        removed_names = []\n",
    "        clean_data = []\n",
    "        # Loop over each speech and remove all regex excluded characters defined above in remove\n",
    "        for speech in self.data:\n",
    "            remove_char = remove.sub(\"\", speech)\n",
    "            removed_names.append(remove_char)\n",
    "        for speech in removed_names:\n",
    "            clean_speech = remove_names.sub(\"\", speech)\n",
    "            clean_data.append(clean_speech)\n",
    "\n",
    "        return clean_data\n",
    "    \n",
    "    "
   ]
  },
  {
   "cell_type": "code",
   "execution_count": 140,
   "metadata": {},
   "outputs": [
    {
     "name": "stdout",
     "output_type": "stream",
     "text": [
      "['\"String 1', ' TRUMP . ! [ ]\"', '\"String 2', ' TRUMP: CLINTON: HOLT:{ }\"', '\"String 3', ' / \\\\\"']\n",
      "String 1\n",
      " TRUMP    \n",
      "String 2\n",
      "  \n",
      "String 3\n",
      "  \n"
     ]
    }
   ],
   "source": [
    "# Testing\n",
    "\n",
    "data = pre_process('CMSE202_TestFile - Sheet1.csv')\n",
    "y = data.get_data()\n",
    "print(y)\n",
    "x = data.clean()\n",
    "for obj in x:\n",
    "    print(obj)\n",
    "    "
   ]
  },
  {
   "cell_type": "code",
   "execution_count": null,
   "metadata": {},
   "outputs": [],
   "source": []
  }
 ],
 "metadata": {
  "kernelspec": {
   "display_name": "Python 3",
   "language": "python",
   "name": "python3"
  },
  "language_info": {
   "codemirror_mode": {
    "name": "ipython",
    "version": 3
   },
   "file_extension": ".py",
   "mimetype": "text/x-python",
   "name": "python",
   "nbconvert_exporter": "python",
   "pygments_lexer": "ipython3",
   "version": "3.7.6"
  }
 },
 "nbformat": 4,
 "nbformat_minor": 4
}
