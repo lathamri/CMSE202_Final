{
 "cells": [
  {
   "cell_type": "markdown",
   "metadata": {},
   "source": [
    "# CMSE 202: Semester Group Project"
   ]
  },
  {
   "cell_type": "markdown",
   "metadata": {},
   "source": [
    "<img src=\"https://as2.ftcdn.net/jpg/01/24/40/79/500_F_124407905_i8wEGGzf7YVSMkl3aNt0QPnUPe62T0j1.jpg\" width=400px>"
   ]
  },
  {
   "cell_type": "markdown",
   "metadata": {},
   "source": [
    "**Section:** 003"
   ]
  },
  {
   "cell_type": "markdown",
   "metadata": {},
   "source": [
    "**Group Members:** \n",
    "* Himali Bhandar:Model \n",
    "* Amanda Bowerman: Model\n",
    "* Blake Stewart: Speech processing- Monday 4/6 \n",
    "* Jalin Lewis: Results \n",
    "* Matthew Sitto: Control variables dataframe (data collection)- Monday 4/6\n",
    "* Riley Latham: Speech Processing  - Monday 4/6\n",
    "* Alexis Morse: Results\n"
   ]
  },
  {
   "cell_type": "markdown",
   "metadata": {},
   "source": [
    "## Statement of the Problem"
   ]
  },
  {
   "cell_type": "markdown",
   "metadata": {},
   "source": [
    "#### **How much, quantitatively, do the presidential election debates affect the outcome of a presidential election?**\n"
   ]
  },
  {
   "cell_type": "markdown",
   "metadata": {},
   "source": [
    "## Solution\n",
    "\n",
    "\n",
    "As a group, we have decided to investigate US Presidential debates' speeches from the years 2000 to 2016 and the actual effect of these speeches on the results of President Elections. \n",
    "\n",
    "To quantitatively use the speeches we found online, we decided to do Sentiment Analysis on these speeches. The goal for this step was to determine the words in these speeches which had positive and negative connotations associated with them. The total number of positive and negative words in each speech would be used for sentiment analysis later on.\n",
    "We also collected data on these candidates' political party affiliations, election result, campaign spending, favorability rating (based off of the popular vote), and the voting-eligible population turnout for each election. \n",
    "\n",
    "For the modeling section of the project, we decided to a K-nearest Classifier Machine Learning model. We wanted this program to learn to associate the total number of positive and negative words and the result of election together and to determine if having either more positive or negative numbers would affect the result or not. \n",
    "\n",
    "After the analysis, we displayed our results using graphs and print statements. \n",
    "\n",
    "*Note: Most of the code applied in this notebook has been imported via python files. This was done because each section of the coding project was assigned to a few people in the group. We will be displaying some sample code and print statements in this notebook to show how our code generally worked. For more detailed understanding of the code, please refer to the python files submitted along with this notebook.* "
   ]
  },
  {
   "cell_type": "markdown",
   "metadata": {},
   "source": [
    "## Data - Riley, Blake and Matt"
   ]
  },
  {
   "cell_type": "code",
   "execution_count": 1,
   "metadata": {},
   "outputs": [
    {
     "name": "stderr",
     "output_type": "stream",
     "text": [
      "[nltk_data] Downloading package stopwords to\n",
      "[nltk_data]     /Users/himalibhandari/nltk_data...\n",
      "[nltk_data]   Package stopwords is already up-to-date!\n"
     ]
    },
    {
     "data": {
      "text/plain": [
       "True"
      ]
     },
     "execution_count": 1,
     "metadata": {},
     "output_type": "execute_result"
    }
   ],
   "source": [
    "# Import necessary python packages\n",
    "import pandas as pd\n",
    "import numpy as np\n",
    "import nltk\n",
    "\n",
    "# Expected to return a True Value\n",
    "nltk.download('stopwords')"
   ]
  },
  {
   "cell_type": "markdown",
   "metadata": {},
   "source": [
    "This section of the project notebook includes our method of collecting, cleaning, and processing our data through sentiment analyis techniques. We will begin with providing the process in which we collected presidential debate transcripts from the 2000-2016 elections. We then pulled all of the positive and negative sentiment from each candidate and used them as predictors for our classification algorithim on predicting if the candidate won the election. This data will be paired with control data such as candidate's favorability rating, political affiliation, campaign financials, and the voting-eligible population turnout for each election."
   ]
  },
  {
   "cell_type": "markdown",
   "metadata": {},
   "source": [
    "### Part 0: Import Speech Data"
   ]
  },
  {
   "cell_type": "markdown",
   "metadata": {},
   "source": [
    "## Model "
   ]
  },
  {
   "cell_type": "code",
   "execution_count": null,
   "metadata": {},
   "outputs": [],
   "source": [
    "import pandas as pd\n",
    "import numpy as np\n",
    "from sklearn.model_selection import train_test_split\n",
    "import matplotlib.pyplot as plt\n",
    "from control_variables import create_data\n",
    "from data_12_16 import return_sentiment\n",
    "from data_00_08 import return_sentiment2\n",
    "from sklearn.neighbors import KNeighborsClassifier  \n",
    "from scipy.spatial.distance import euclidean\n",
    "from scipy.stats import mode\n",
    "from sklearn.metrics import accuracy_score\n",
    "import nltk\n",
    "from sklearn.preprocessing import StandardScaler"
   ]
  },
  {
   "cell_type": "markdown",
   "metadata": {},
   "source": [
    "This section describes the Machine Learning method of K-nearest Classifier method we applied to the Election Data and the other control variables from the previous section. \n",
    "\n",
    "We wanted the model to learn to associate the total number of positive words and negative words from a candidate's Presidential debate speeches in a particular year and the control factors including favorability rating, political affiliation, campaign financials, and the voting-eligible population turnout for each election with the election result of that respective year "
   ]
  },
  {
   "cell_type": "markdown",
   "metadata": {},
   "source": [
    "## Conclusions - Everyone"
   ]
  },
  {
   "cell_type": "markdown",
   "metadata": {},
   "source": [
    "Some issues we might run into are:\n",
    "\n",
    "* Finding proper data without any inconsistencies for both the speeches and approval rates.\n",
    "* Deciding on an appropriate pre-defined sentiment.\n",
    "* Likely issues in the actual word processing. \n",
    "\n"
   ]
  },
  {
   "cell_type": "code",
   "execution_count": 8,
   "metadata": {},
   "outputs": [],
   "source": [
    "from Machine_Learning_KNN1 import predict\n",
    "import matplotlib.pyplot as plt\n",
    "import numpy as np"
   ]
  },
  {
   "cell_type": "code",
   "execution_count": 20,
   "metadata": {},
   "outputs": [],
   "source": [
    "ypredict, accuracy_k, ytest = predict(3,0.4)"
   ]
  },
  {
   "cell_type": "code",
   "execution_count": 21,
   "metadata": {},
   "outputs": [
    {
     "name": "stdout",
     "output_type": "stream",
     "text": [
      "['L' 'L' 'L' 'L']\n"
     ]
    }
   ],
   "source": [
    "print(ypredict)"
   ]
  },
  {
   "cell_type": "code",
   "execution_count": 26,
   "metadata": {},
   "outputs": [
    {
     "name": "stdout",
     "output_type": "stream",
     "text": [
      "['W', 'W', 'W'] ['L']\n"
     ]
    },
    {
     "data": {
      "text/plain": [
       "<BarContainer object of 1 artists>"
      ]
     },
     "execution_count": 26,
     "metadata": {},
     "output_type": "execute_result"
    },
    {
     "data": {
      "image/png": "[encoded data removed]",
      "text/plain": [
       "<Figure size 432x288 with 1 Axes>"
      ]
     },
     "metadata": {
      "needs_background": "light"
     },
     "output_type": "display_data"
    }
   ],
   "source": [
    "height1 = len(ypredict)\n",
    "height2 = len(ytest)\n",
    "wins_predict = []\n",
    "loss_predict = []\n",
    "win_count = 0\n",
    "loss_count = 0\n",
    "win_test = []\n",
    "loss_test = []\n",
    "win_count_test = 0\n",
    "loss_count_test = 0\n",
    "\n",
    "for i in ypredict:\n",
    "    if i == \"W\":\n",
    "        win_count+=1\n",
    "        wins_predict.append(i)\n",
    "    else:\n",
    "        loss_count +=1\n",
    "        loss_predict.append(i)\n",
    "for j in ytest:\n",
    "    if j == \"W\":\n",
    "        win_count_test+=1\n",
    "        win_test.append(j)\n",
    "    else:\n",
    "        loss_count_test+=1\n",
    "        loss_test.append(j)\n",
    "\n",
    "        \n",
    "\n",
    "\n",
    "plt.bar(wins_predict,win_count)\n",
    "plt.bar(loss_predict, loss_count)\n",
    "plt.bar(win_test,win_count_test)\n",
    "plt.bar(loss_test,loss_count_test)"
   ]
  },
  {
   "cell_type": "code",
   "execution_count": 27,
   "metadata": {},
   "outputs": [
    {
     "name": "stdout",
     "output_type": "stream",
     "text": [
      "['W', 'W', 'L', 'W']\n"
     ]
    }
   ],
   "source": [
    "print(ytest)"
   ]
  },
  {
   "cell_type": "code",
   "execution_count": 28,
   "metadata": {},
   "outputs": [
    {
     "name": "stdout",
     "output_type": "stream",
     "text": [
      "[]\n"
     ]
    }
   ],
   "source": [
    "print(accuracy_k)"
   ]
  },
  {
   "cell_type": "code",
   "execution_count": 29,
   "metadata": {},
   "outputs": [
    {
     "data": {
      "text/plain": [
       "<BarContainer object of 1 artists>"
      ]
     },
     "execution_count": 29,
     "metadata": {},
     "output_type": "execute_result"
    },
    {
     "data": {
      "image/png": "[encoded data removed]",
      "text/plain": [
       "<Figure size 432x288 with 1 Axes>"
      ]
     },
     "metadata": {
      "needs_background": "light"
     },
     "output_type": "display_data"
    }
   ],
   "source": [
    "accuracy_k = []\n",
    "accuracy_ts = []\n",
    "k = [1,2,3,4,5]\n",
    "test_size = [0.1,0.2,0.4,0.5,0.7]\n",
    "y_predict = []\n",
    "plt.bar(wins_predict,win_count)\n",
    "plt.bar(loss_predict, loss_count)\n",
    "plt.bar(win_test,win_count_test)\n",
    "plt.bar(loss_test,loss_count_test)"
   ]
  },
  {
   "cell_type": "markdown",
   "metadata": {},
   "source": [
    "## References\n",
    "\n",
    "* “Debate Transcripts.” CPD: Debate Transcripts, www.debates.org/voter-education/debate-transcripts/.\n",
    "* “Election Listing: The American Presidency Project.” Election Listing | The American Presidency Project, www.presidency.ucsb.edu/statistics/elections.\n",
    "* “Data Archive.” Data Archive | The American Presidency Project, www.presidency.ucsb.edu/statistics/data.\n",
    "* Approval ratings (RealClearPolitics): https://www.realclearpolitics.com/epolls/2008/president/us/general_election_mccain_vs_obama-225.html\n",
    "* Approval ratings (WikiWand): https://www.wikiwand.com/en/United_States_presidential_approval_rating#/Historical_comparison"
   ]
  },
  {
   "cell_type": "code",
   "execution_count": null,
   "metadata": {},
   "outputs": [],
   "source": []
  },
  {
   "cell_type": "code",
   "execution_count": null,
   "metadata": {},
   "outputs": [],
   "source": []
  }
 ],
 "metadata": {
  "kernelspec": {
   "display_name": "Python 3",
   "language": "python",
   "name": "python3"
  },
  "language_info": {
   "codemirror_mode": {
    "name": "ipython",
    "version": 3
   },
   "file_extension": ".py",
   "mimetype": "text/x-python",
   "name": "python",
   "nbconvert_exporter": "python",
   "pygments_lexer": "ipython3",
   "version": "3.7.4"
  }
 },
 "nbformat": 4,
 "nbformat_minor": 2
}
