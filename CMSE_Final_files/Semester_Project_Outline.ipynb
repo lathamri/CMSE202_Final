{
 "cells": [
  {
   "cell_type": "markdown",
   "metadata": {},
   "source": [
    "# CMSE 202: Semester Group Project"
   ]
  },
  {
   "cell_type": "markdown",
   "metadata": {},
   "source": [
    "**Section:** 003"
   ]
  },
  {
   "cell_type": "markdown",
   "metadata": {},
   "source": [
    "**Group Members:** \n",
    "* Himali Bhandar:Model \n",
    "* Amanda Bowerman: Model\n",
    "* Blake Stewart: Speech processing- Monday 4/6 \n",
    "* Jalin Lewis: Results \n",
    "* Matthew Sitto: Control variables dataframe (data collection)- Monday 4/6\n",
    "* Riley Latham: Speech Processing  - Monday 4/6\n",
    "* Alexis Morse: Results\n"
   ]
  },
  {
   "cell_type": "markdown",
   "metadata": {},
   "source": [
    "## Statement of the Probelm - Everyone"
   ]
  },
  {
   "cell_type": "markdown",
   "metadata": {},
   "source": [
    "As a group, we have decided to investigate US Presidential candidate speeches through US history and their possible correlation with approval rates. We want to do sentiment analysis on these candidate speeches (most probably Presidential debate speeches) and after making a thorough analysis of these speeches we want to compare the approval rates of the candidate before, on the day of, and after the debate to see the impact of the debate speech. \n",
    "\n",
    "We basically want to determine the winner of an election using the speech and also analyze why did a particular candidate win.\n",
    "\n",
    "We might even include fundraising data of each candidate and see how that relates to the speech made by the candidate. \n",
    "\n",
    "NOTE: This problem statement is tentative, we might make some changes later on when we decide specifics of our model and our final data sources.\n",
    "\n",
    "**STATEMENT OF THE PROBLEM: How much, quantitatively, do the presidential election debates affect the outcome of a presidential election?**"
   ]
  },
  {
   "cell_type": "markdown",
   "metadata": {},
   "source": [
    "## Data - Riley, Blake and Matt"
   ]
  },
  {
   "cell_type": "markdown",
   "metadata": {},
   "source": [
    "Some possible links we might use in our project are:\n",
    "* Debates : https://www.debates.org/voter-education/debate-transcripts/\n",
    "* Election outcomes: https://www.presidency.ucsb.edu/statistics/elections\n",
    "* Some control variables: https://www.presidency.ucsb.edu/statistics/data\n",
    "* Approval ratings (RealClearPolitics): https://www.realclearpolitics.com/epolls/2008/president/us/general_election_mccain_vs_obama-225.html\n",
    "* Approval ratings (WikiWand): https://www.wikiwand.com/en/United_States_presidential_approval_rating#/Historical_comparison"
   ]
  },
  {
   "cell_type": "markdown",
   "metadata": {},
   "source": [
    "## Model - Himali & Amanda"
   ]
  },
  {
   "cell_type": "markdown",
   "metadata": {},
   "source": [
    "We are planning to use Sentiment Analysis on the speeches. Sentiment analysis is a common NLP (Natural Language  task, which involves classifying texts or parts of texts into a pre-defined sentiment.\n",
    "\n",
    "As a prerequiste for the model, we still have yet to decide on one or more pre-defined sentiments that we are going to use in our model. \n",
    "\n",
    "Some Python methods that will be included in this model are: numpy, matplotlib, seaborn, pandas, sklearn.\n",
    "\n",
    "This pre-defined sentiment and comparison with approval rates of the candidate will possibly part of our evaluation crtieria."
   ]
  },
  {
   "cell_type": "markdown",
   "metadata": {},
   "source": [
    "## Results - Alexis & Jalin"
   ]
  },
  {
   "cell_type": "markdown",
   "metadata": {},
   "source": [
    "Our results will possibly be declaring one candidate from a debate a winner. \n",
    "\n",
    "And we might also include some regression analysis on how sentiments from different speeches have behaved throughtout the US Presidential elections. \n",
    "\n",
    "The results section is heavily dependent on what type of model we decide to do. Thats why, we haven't actually come up with anything concrete in this section yet."
   ]
  },
  {
   "cell_type": "markdown",
   "metadata": {},
   "source": [
    "## Conclusions - Everyone"
   ]
  },
  {
   "cell_type": "markdown",
   "metadata": {},
   "source": [
    "Some issues we might run into are:\n",
    "\n",
    "* Finding proper data without any inconsistencies for both the speeches and approval rates.\n",
    "* Deciding on an appropriate pre-defined sentiment.\n",
    "* Likely issues in the actual word processing. \n",
    "\n"
   ]
  },
  {
   "cell_type": "code",
   "execution_count": 101,
   "metadata": {},
   "outputs": [],
   "source": [
    "from Machine_Learning_KNN1 import predict\n",
    "import matplotlib.pyplot as plt\n",
    "import numpy as np"
   ]
  },
  {
   "cell_type": "code",
   "execution_count": 107,
   "metadata": {},
   "outputs": [],
   "source": [
    "ypredict, accuracy_k, ytest = predict(3,0.4)"
   ]
  },
  {
   "cell_type": "code",
   "execution_count": 108,
   "metadata": {},
   "outputs": [
    {
     "name": "stdout",
     "output_type": "stream",
     "text": [
      "['W' 'W' 'L' 'W']\n"
     ]
    }
   ],
   "source": [
    "print(ypredict)"
   ]
  },
  {
   "cell_type": "code",
   "execution_count": 109,
   "metadata": {},
   "outputs": [
    {
     "data": {
      "text/plain": [
       "<BarContainer object of 3 artists>"
      ]
     },
     "execution_count": 109,
     "metadata": {},
     "output_type": "execute_result"
    },
    {
     "data": {
      "image/png": "[encoded data removed]",
      "text/plain": [
       "<Figure size 432x288 with 1 Axes>"
      ]
     },
     "metadata": {
      "needs_background": "light"
     },
     "output_type": "display_data"
    }
   ],
   "source": [
    "height1 = len(ypredict)\n",
    "height2 = len(ytest)\n",
    "wins_predict = []\n",
    "loss_predict = []\n",
    "win_count = 0\n",
    "loss_count = 0\n",
    "win_test = []\n",
    "loss_test = []\n",
    "win_count_test = 0\n",
    "loss_count_test = 0\n",
    "\n",
    "for i in ypredict:\n",
    "    if i == \"W\":\n",
    "        win_count+=1\n",
    "        wins_predict.append(i)\n",
    "    else:\n",
    "        loss_count +=1\n",
    "        loss_predict.append(i)\n",
    "for j in ytest:\n",
    "    if j == \"W\":\n",
    "        win_count_test+=1\n",
    "        win_test.append(j)\n",
    "    else:\n",
    "        loss_count_test+=1\n",
    "        loss_test.append(j)\n",
    "\n",
    "#plt.bar(wins_predict,win_count)\n",
    "plt.bar(loss_predict, loss_count)\n",
    "#plt.bar(win_test,win_count_test)\n",
    "plt.bar(loss_test,loss_count_test)"
   ]
  },
  {
   "cell_type": "code",
   "execution_count": 110,
   "metadata": {},
   "outputs": [
    {
     "name": "stdout",
     "output_type": "stream",
     "text": [
      "['L', 'L', 'W', 'L']\n"
     ]
    }
   ],
   "source": [
    "print(ytest)"
   ]
  },
  {
   "cell_type": "code",
   "execution_count": 106,
   "metadata": {},
   "outputs": [
    {
     "name": "stdout",
     "output_type": "stream",
     "text": [
      "0.5\n"
     ]
    }
   ],
   "source": [
    "print(accuracy_k)"
   ]
  },
  {
   "cell_type": "code",
   "execution_count": null,
   "metadata": {},
   "outputs": [],
   "source": [
    "accuracy_k = []\n",
    "accuracy_ts = []\n",
    "k = [1,2,3,4,5]\n",
    "test_size = [0.1,0.2,0.4,0.5,0.7]\n",
    "y_predict = []\n",
    "plt.bar(wins_predict,win_count)\n",
    "plt.bar(loss_predict, loss_count)\n",
    "plt.bar(win_test,win_count_test)\n",
    "plt.bar(loss_test,loss_count_test)"
   ]
  }
 ],
 "metadata": {
  "kernelspec": {
   "display_name": "Python 3",
   "language": "python",
   "name": "python3"
  },
  "language_info": {
   "codemirror_mode": {
    "name": "ipython",
    "version": 3
   },
   "file_extension": ".py",
   "mimetype": "text/x-python",
   "name": "python",
   "nbconvert_exporter": "python",
   "pygments_lexer": "ipython3",
   "version": "3.7.3"
  }
 },
 "nbformat": 4,
 "nbformat_minor": 2
}
