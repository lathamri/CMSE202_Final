{
 "cells": [
  {
   "cell_type": "code",
   "execution_count": 41,
   "metadata": {},
   "outputs": [],
   "source": [
    "# Standard Includes\n",
    "import numpy as np\n",
    "import re"
   ]
  },
  {
   "cell_type": "code",
   "execution_count": 42,
   "metadata": {},
   "outputs": [],
   "source": [
    "class pre_process():\n",
    "    def __init__(self, filename):\n",
    "        self.filename = filename\n",
    "    \n",
    "    def get_data(self):\n",
    "        \"\"\"Get our data from some csv file. The file should be a csv.\n",
    "        Each cell should be a string and each string should be one entire speech.\n",
    "        Must be run prior to clean().\"\"\"\n",
    "        # Load our csv as strings\n",
    "        self.data = np.loadtxt(self.filename, dtype=str, delimiter=',')\n",
    "        return list(self.data)\n",
    "    \n",
    "    def clean(self):\n",
    "        \"\"\"Takes in our data and strips all unnecessary characters.\"\"\"\n",
    "        # Characters to remove\n",
    "        remove = re.compile(r\"[\\'\\\"\\\\!',/;:{}\\[\\.\\]]\")\n",
    "        # List to store clean speeches\n",
    "        clean_data = []\n",
    "        # Loop over each speech and remove all regex excluded characters defined above in remove\n",
    "        for speech in self.data:\n",
    "            clean_speech = remove.sub(\"\", speech.lower())\n",
    "            clean_data.append(clean_speech)\n",
    "\n",
    "        return clean_data\n",
    "    \n",
    "    "
   ]
  },
  {
   "cell_type": "code",
   "execution_count": 44,
   "metadata": {},
   "outputs": [
    {
     "name": "stdout",
     "output_type": "stream",
     "text": [
      "['\"String 1', ' . ! [ ]\"', '\"String 2', ' { }\"', '\"String 3', ' / \\\\\"']\n",
      "string 1\n",
      "    \n",
      "string 2\n",
      "  \n",
      "string 3\n",
      "  \n"
     ]
    }
   ],
   "source": [
    "# Testing\n",
    "\n",
    "data = pre_process('CMSE202_TestFile - Sheet1.csv')\n",
    "y = data.get_data()\n",
    "print(y)\n",
    "x = data.clean()\n",
    "for obj in x:\n",
    "    print(obj)"
   ]
  },
  {
   "cell_type": "code",
   "execution_count": null,
   "metadata": {},
   "outputs": [],
   "source": []
  }
 ],
 "metadata": {
  "kernelspec": {
   "display_name": "Python 3",
   "language": "python",
   "name": "python3"
  },
  "language_info": {
   "codemirror_mode": {
    "name": "ipython",
    "version": 3
   },
   "file_extension": ".py",
   "mimetype": "text/x-python",
   "name": "python",
   "nbconvert_exporter": "python",
   "pygments_lexer": "ipython3",
   "version": "3.7.6"
  }
 },
 "nbformat": 4,
 "nbformat_minor": 4
}
