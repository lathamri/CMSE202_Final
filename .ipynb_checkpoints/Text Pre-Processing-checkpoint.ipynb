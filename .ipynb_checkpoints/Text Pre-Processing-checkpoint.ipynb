{
 "cells": [
  {
   "cell_type": "code",
   "execution_count": 62,
   "metadata": {},
   "outputs": [],
   "source": [
    "# Standard Includes\n",
    "import numpy as np\n",
    "import nltk\n",
    "import re"
   ]
  },
  {
   "cell_type": "code",
   "execution_count": 63,
   "metadata": {},
   "outputs": [],
   "source": [
    "class pre_process():\n",
    "    def __init__(self, filename):\n",
    "        self.filename = filename\n",
    "    \n",
    "    def get_data(self):\n",
    "        \"\"\"Get our data from some csv file. The file should be a list of strings or a dictionary of strings.\n",
    "        Each string should be one entire speech.\n",
    "        Must be run prior to clean().\"\"\"\n",
    "        return np.read_csv(self.filename)\n",
    "\n",
    "    def clean(self):\n",
    "        \"\"\"Takes in our data and strips all unnecessary characters.\"\"\"\n",
    "        # This will need to be filled in with regex controls to take care of non-alphabetic characters\n",
    "        remove = re.compile(r\"[!',/;:{}\\[\\.\\]]\")\n",
    "\n",
    "        clean_data = []\n",
    "\n",
    "        for speech in data:\n",
    "            clean_speech = remove.sub(\"\", speech.lower)\n",
    "            clean_data.append(clean_speech)\n",
    "\n",
    "        return clean_data\n",
    "    \n",
    "    "
   ]
  },
  {
   "cell_type": "code",
   "execution_count": null,
   "metadata": {},
   "outputs": [],
   "source": []
  },
  {
   "cell_type": "code",
   "execution_count": null,
   "metadata": {},
   "outputs": [],
   "source": []
  }
 ],
 "metadata": {
  "kernelspec": {
   "display_name": "Python 3",
   "language": "python",
   "name": "python3"
  },
  "language_info": {
   "codemirror_mode": {
    "name": "ipython",
    "version": 3
   },
   "file_extension": ".py",
   "mimetype": "text/x-python",
   "name": "python",
   "nbconvert_exporter": "python",
   "pygments_lexer": "ipython3",
   "version": "3.7.6"
  }
 },
 "nbformat": 4,
 "nbformat_minor": 4
}
