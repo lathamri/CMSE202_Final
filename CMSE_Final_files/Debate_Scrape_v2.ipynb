{
 "cells": [
  {
   "cell_type": "code",
   "execution_count": 1,
   "metadata": {
    "scrolled": true
   },
   "outputs": [
    {
     "name": "stderr",
     "output_type": "stream",
     "text": [
      "[nltk_data] Downloading package stopwords to\n",
      "[nltk_data]     C:\\Users\\mjsit\\AppData\\Roaming\\nltk_data...\n",
      "[nltk_data]   Unzipping corpora\\stopwords.zip.\n"
     ]
    },
    {
     "data": {
      "text/plain": [
       "True"
      ]
     },
     "execution_count": 1,
     "metadata": {},
     "output_type": "execute_result"
    }
   ],
   "source": [
    "# import necessary python packages\n",
    "import pandas as pd\n",
    "import numpy as np\n",
    "import nltk\n",
    "\n",
    "# expected to return a True Value\n",
    "nltk.download('stopwords')"
   ]
  },
  {
   "cell_type": "markdown",
   "metadata": {},
   "source": [
    "# Data - Riley, Blake and Matt"
   ]
  },
  {
   "cell_type": "markdown",
   "metadata": {},
   "source": [
    "This section of the project notebook includes our method of collecting, cleaning, and processing our data through sentiment analyis techniques. We will begin with providing the process in which we collected presidential debate transcripts from the 2000-2016 elections. We then pulled all of the positive and negative sentiment from each candidate and used them as predictors for our classification algorithim on predicting if the candidate won the election. This data will be paired with control data such as candidate rating, political officiliation, campaign financials, etc..."
   ]
  },
  {
   "cell_type": "markdown",
   "metadata": {},
   "source": [
    "## Part 0: Import Speech Data"
   ]
  },
  {
   "cell_type": "code",
   "execution_count": 2,
   "metadata": {},
   "outputs": [
    {
     "ename": "FileNotFoundError",
     "evalue": "[Errno 2] No such file or directory: 'C:/Users/Sjred/Desktop/MSBA/Spring 20/CMSE202/repositories/CMSE202_Final/Debate_Scrape/Debates/2008/Obama_McCain_101508.txt'",
     "output_type": "error",
     "traceback": [
      "\u001b[1;31m---------------------------------------------------------------------------\u001b[0m",
      "\u001b[1;31mFileNotFoundError\u001b[0m                         Traceback (most recent call last)",
      "\u001b[1;32m<ipython-input-2-cd0f8b3f7514>\u001b[0m in \u001b[0;36m<module>\u001b[1;34m\u001b[0m\n\u001b[0;32m      1\u001b[0m \u001b[1;31m# import debate transcript, positve and negative word dictionaries.txt files\u001b[0m\u001b[1;33m\u001b[0m\u001b[1;33m\u001b[0m\u001b[1;33m\u001b[0m\u001b[0m\n\u001b[0;32m      2\u001b[0m \u001b[1;31m# read file and split each word into its own string\u001b[0m\u001b[1;33m\u001b[0m\u001b[1;33m\u001b[0m\u001b[1;33m\u001b[0m\u001b[0m\n\u001b[1;32m----> 3\u001b[1;33m \u001b[0mdebate\u001b[0m \u001b[1;33m=\u001b[0m \u001b[0mopen\u001b[0m\u001b[1;33m(\u001b[0m\u001b[1;34m\"C:/Users/Sjred/Desktop/MSBA/Spring 20/CMSE202/repositories/CMSE202_Final/Debate_Scrape/Debates/2008/Obama_McCain_101508.txt\"\u001b[0m\u001b[1;33m,\u001b[0m \u001b[0mencoding\u001b[0m\u001b[1;33m=\u001b[0m\u001b[1;34m\"utf8\"\u001b[0m\u001b[1;33m)\u001b[0m\u001b[1;33m.\u001b[0m\u001b[0mread\u001b[0m\u001b[1;33m(\u001b[0m\u001b[1;33m)\u001b[0m\u001b[1;33m.\u001b[0m\u001b[0msplit\u001b[0m\u001b[1;33m(\u001b[0m\u001b[1;33m)\u001b[0m\u001b[1;33m\u001b[0m\u001b[1;33m\u001b[0m\u001b[0m\n\u001b[0m\u001b[0;32m      4\u001b[0m \u001b[0mpositive\u001b[0m \u001b[1;33m=\u001b[0m \u001b[0mopen\u001b[0m\u001b[1;33m(\u001b[0m\u001b[1;34m\"C:/Users/Sjred/Desktop/MSBA/Spring 20/CMSE202/repositories/CMSE202_Final/Debate_Scrape/Debates/positive-words.txt\"\u001b[0m\u001b[1;33m)\u001b[0m\u001b[1;33m.\u001b[0m\u001b[0mread\u001b[0m\u001b[1;33m(\u001b[0m\u001b[1;33m)\u001b[0m\u001b[1;33m.\u001b[0m\u001b[0msplit\u001b[0m\u001b[1;33m(\u001b[0m\u001b[1;33m)\u001b[0m\u001b[1;33m\u001b[0m\u001b[1;33m\u001b[0m\u001b[0m\n\u001b[0;32m      5\u001b[0m \u001b[0mnegative\u001b[0m \u001b[1;33m=\u001b[0m \u001b[0mopen\u001b[0m\u001b[1;33m(\u001b[0m\u001b[1;34m\"C:/Users/Sjred/Desktop/MSBA/Spring 20/CMSE202/repositories/CMSE202_Final/Debate_Scrape/Debates/negative-words.txt\"\u001b[0m\u001b[1;33m)\u001b[0m\u001b[1;33m.\u001b[0m\u001b[0mread\u001b[0m\u001b[1;33m(\u001b[0m\u001b[1;33m)\u001b[0m\u001b[1;33m.\u001b[0m\u001b[0msplit\u001b[0m\u001b[1;33m(\u001b[0m\u001b[1;33m)\u001b[0m\u001b[1;33m\u001b[0m\u001b[1;33m\u001b[0m\u001b[0m\n",
      "\u001b[1;31mFileNotFoundError\u001b[0m: [Errno 2] No such file or directory: 'C:/Users/Sjred/Desktop/MSBA/Spring 20/CMSE202/repositories/CMSE202_Final/Debate_Scrape/Debates/2008/Obama_McCain_101508.txt'"
     ]
    }
   ],
   "source": [
    "# import debate transcript, positve and negative word dictionaries.txt files\n",
    "# read file and split each word into its own string\n",
    "debate = open(\"C:/Users/Sjred/Desktop/MSBA/Spring 20/CMSE202/repositories/CMSE202_Final/Debate_Scrape/Debates/2008/Obama_McCain_101508.txt\", encoding=\"utf8\").read().split()\n",
    "positive = open(\"C:/Users/Sjred/Desktop/MSBA/Spring 20/CMSE202/repositories/CMSE202_Final/Debate_Scrape/Debates/positive-words.txt\").read().split()\n",
    "negative = open(\"C:/Users/Sjred/Desktop/MSBA/Spring 20/CMSE202/repositories/CMSE202_Final/Debate_Scrape/Debates/negative-words.txt\").read().split()"
   ]
  },
  {
   "cell_type": "markdown",
   "metadata": {},
   "source": [
    "## Part 1: Separation Of Moderator, And The Two Candidates"
   ]
  },
  {
   "cell_type": "markdown",
   "metadata": {},
   "source": [
    "Part one includes a while loop that iterates backwards through the debate transcript. Once it finds a speaking prompt from either the Moderator, Candidate One, or Candidate Two, it appends the text that exists after the current prompt and before the last prompt in the transcript. It also detaches and deletes this list of strings from the transcript so it is not duplicated. After this process is done, you obtain your separated candidate and moderator lists."
   ]
  },
  {
   "cell_type": "code",
   "execution_count": 3,
   "metadata": {},
   "outputs": [
    {
     "ename": "NameError",
     "evalue": "name 'debate' is not defined",
     "output_type": "error",
     "traceback": [
      "\u001b[1;31m---------------------------------------------------------------------------\u001b[0m",
      "\u001b[1;31mNameError\u001b[0m                                 Traceback (most recent call last)",
      "\u001b[1;32m<ipython-input-3-f8fb266ce180>\u001b[0m in \u001b[0;36m<module>\u001b[1;34m\u001b[0m\n\u001b[0;32m      5\u001b[0m \u001b[0mi_new\u001b[0m \u001b[1;33m=\u001b[0m \u001b[1;33m-\u001b[0m\u001b[1;36m1\u001b[0m\u001b[1;33m\u001b[0m\u001b[1;33m\u001b[0m\u001b[0m\n\u001b[0;32m      6\u001b[0m \u001b[0mi_old\u001b[0m \u001b[1;33m=\u001b[0m \u001b[1;33m-\u001b[0m\u001b[1;36m1\u001b[0m\u001b[1;33m\u001b[0m\u001b[1;33m\u001b[0m\u001b[0m\n\u001b[1;32m----> 7\u001b[1;33m \u001b[1;32mwhile\u001b[0m \u001b[0mi_new\u001b[0m \u001b[1;33m>=\u001b[0m \u001b[1;33m-\u001b[0m\u001b[0mlen\u001b[0m\u001b[1;33m(\u001b[0m\u001b[0mdebate\u001b[0m\u001b[1;33m)\u001b[0m\u001b[1;33m:\u001b[0m\u001b[1;33m\u001b[0m\u001b[1;33m\u001b[0m\u001b[0m\n\u001b[0m\u001b[0;32m      8\u001b[0m     \u001b[1;32mif\u001b[0m \u001b[0mdebate\u001b[0m\u001b[1;33m[\u001b[0m\u001b[0mi_new\u001b[0m\u001b[1;33m]\u001b[0m \u001b[1;33m==\u001b[0m \u001b[1;34m'SCHIEFFER:'\u001b[0m\u001b[1;33m:\u001b[0m \u001b[1;31m# Moderator\u001b[0m\u001b[1;33m\u001b[0m\u001b[1;33m\u001b[0m\u001b[0m\n\u001b[0;32m      9\u001b[0m         \u001b[0mmod_list\u001b[0m \u001b[1;33m+=\u001b[0m \u001b[0mdebate\u001b[0m\u001b[1;33m[\u001b[0m\u001b[0mi_new\u001b[0m\u001b[1;33m:\u001b[0m\u001b[1;33m]\u001b[0m\u001b[1;33m\u001b[0m\u001b[1;33m\u001b[0m\u001b[0m\n",
      "\u001b[1;31mNameError\u001b[0m: name 'debate' is not defined"
     ]
    }
   ],
   "source": [
    "mod_list = []\n",
    "can1_list = []\n",
    "can2_list = []\n",
    "\n",
    "i_new = -1\n",
    "i_old = -1\n",
    "while i_new >= -len(debate):\n",
    "    if debate[i_new] == 'SCHIEFFER:': # Moderator\n",
    "        mod_list += debate[i_new:]\n",
    "        del debate[i_new:i_old]\n",
    "        i_old = i_new\n",
    "\n",
    "    elif debate[i_new] == 'OBAMA:': # Candidate One\n",
    "        can1_list += debate[i_new:]\n",
    "        del debate[i_new:i_old]\n",
    "        i_old = i_new\n",
    "\n",
    "    elif debate[i_new] == 'MCCAIN:': # Candidate Two\n",
    "        can2_list += debate[i_new:]\n",
    "        del debate[i_new:i_old]\n",
    "        i_old = i_new\n",
    "\n",
    "    else: pass\n",
    "    i_new -= 1"
   ]
  },
  {
   "cell_type": "markdown",
   "metadata": {},
   "source": [
    "## Part 2: Removal Of Stop Words"
   ]
  },
  {
   "cell_type": "code",
   "execution_count": 4,
   "metadata": {},
   "outputs": [],
   "source": [
    "# import \"stop words\" from nltk package\n",
    "stop_words = nltk.corpus.stopwords.words('english')"
   ]
  },
  {
   "cell_type": "code",
   "execution_count": 5,
   "metadata": {},
   "outputs": [],
   "source": [
    "# iterates through candidate lists and removes \"stop words\" from the list\n",
    "can1_list = [x for x in can1_list if x not in stop_words]\n",
    "can2_list = [x for x in can2_list if x not in stop_words]"
   ]
  },
  {
   "cell_type": "markdown",
   "metadata": {},
   "source": [
    "## Part 3: Sentiment Analysis"
   ]
  },
  {
   "cell_type": "markdown",
   "metadata": {},
   "source": [
    "We will now perform our sentiment analysis and separate the positive and negative connotation words from our candidates talking points during the debate. You will see below the results of each candidate."
   ]
  },
  {
   "cell_type": "code",
   "execution_count": 6,
   "metadata": {},
   "outputs": [],
   "source": [
    "# iterates through candidate lists and separates positive/negative words \n",
    "# from the list\n",
    "can1_pos = [x for x in can1_list if x in positive]\n",
    "can1_neg = [x for x in can1_list if x in negative]\n",
    "can2_pos = [x for x in can2_list if x in positive]\n",
    "can2_neg = [x for x in can2_list if x in negative]"
   ]
  },
  {
   "cell_type": "code",
   "execution_count": 7,
   "metadata": {
    "scrolled": true
   },
   "outputs": [
    {
     "name": "stdout",
     "output_type": "stream",
     "text": [
      "Candidate One Total Positive: 0\n",
      "Candidate Two Total Positive: 0\n",
      "Candidate One Total Negative: 0\n",
      "Candidate Two Total Negative: 0\n",
      "Candidate One Total Sentiment: 0\n",
      "Candidate Two Total Sentiment: 0\n"
     ]
    }
   ],
   "source": [
    "print('Candidate One Total Positive:', len(can1_pos))\n",
    "print('Candidate Two Total Positive:', len(can2_pos))\n",
    "print('Candidate One Total Negative:', len(can1_neg))\n",
    "print('Candidate Two Total Negative:', len(can2_neg))\n",
    "print('Candidate One Total Sentiment:', len(can1_pos)+len(can1_neg))\n",
    "print('Candidate Two Total Sentiment:', len(can2_pos)+len(can2_neg))"
   ]
  },
  {
   "cell_type": "markdown",
   "metadata": {},
   "source": [
    "## Part 4: Election Data"
   ]
  },
  {
   "cell_type": "markdown",
   "metadata": {},
   "source": [
    "The following data contains information on the presidential candidates from 2000 to 2016. This includes, their names, party, election result, campaign spending, favorability rating (based off of the popular vote), and the voting-eligible population turnout for each election. "
   ]
  },
  {
   "cell_type": "code",
   "execution_count": 10,
   "metadata": {},
   "outputs": [],
   "source": [
    "def create_data():\n",
    "    election_data = pd.read_csv('election_data.csv') #Reading in the data\n",
    "    for row in range(10,19):   #Dropping some extra rows\n",
    "        election_data.drop(index = [row], inplace = True)\n",
    "    election_data['Year'] = election_data['Year'].astype(int) #Making the year look nicer\n",
    "    for i in range(len(election_data)):      #Changing the parties from the first letter to the full name\n",
    "        if election_data.iloc[i,2] == 'R':\n",
    "            election_data.iloc[i,2] = 'Republican'\n",
    "        else:\n",
    "            election_data.iloc[i,2] = 'Democrat'\n",
    "    return election_data"
   ]
  },
  {
   "cell_type": "code",
   "execution_count": 11,
   "metadata": {},
   "outputs": [
    {
     "data": {
      "text/html": [
       "<div>\n",
       "<style scoped>\n",
       "    .dataframe tbody tr th:only-of-type {\n",
       "        vertical-align: middle;\n",
       "    }\n",
       "\n",
       "    .dataframe tbody tr th {\n",
       "        vertical-align: top;\n",
       "    }\n",
       "\n",
       "    .dataframe thead th {\n",
       "        text-align: right;\n",
       "    }\n",
       "</style>\n",
       "<table border=\"1\" class=\"dataframe\">\n",
       "  <thead>\n",
       "    <tr style=\"text-align: right;\">\n",
       "      <th></th>\n",
       "      <th>Year</th>\n",
       "      <th>Candidate</th>\n",
       "      <th>Political Party</th>\n",
       "      <th>Election Result</th>\n",
       "      <th>Candidate Spending ($1mil)</th>\n",
       "      <th>Final Favorability Rating (%)</th>\n",
       "      <th>Voting-Eligible Population Turnout (%)</th>\n",
       "    </tr>\n",
       "  </thead>\n",
       "  <tbody>\n",
       "    <tr>\n",
       "      <th>0</th>\n",
       "      <td>2000</td>\n",
       "      <td>Albert Gore</td>\n",
       "      <td>Democrat</td>\n",
       "      <td>L</td>\n",
       "      <td>120.3</td>\n",
       "      <td>48.4</td>\n",
       "      <td>54.2</td>\n",
       "    </tr>\n",
       "    <tr>\n",
       "      <th>1</th>\n",
       "      <td>2000</td>\n",
       "      <td>George W. Bush</td>\n",
       "      <td>Republican</td>\n",
       "      <td>W</td>\n",
       "      <td>186.5</td>\n",
       "      <td>47.9</td>\n",
       "      <td>54.2</td>\n",
       "    </tr>\n",
       "    <tr>\n",
       "      <th>2</th>\n",
       "      <td>2004</td>\n",
       "      <td>John Kerry</td>\n",
       "      <td>Democrat</td>\n",
       "      <td>L</td>\n",
       "      <td>332.7</td>\n",
       "      <td>48.3</td>\n",
       "      <td>60.1</td>\n",
       "    </tr>\n",
       "    <tr>\n",
       "      <th>3</th>\n",
       "      <td>2004</td>\n",
       "      <td>George W. Bush</td>\n",
       "      <td>Republican</td>\n",
       "      <td>W</td>\n",
       "      <td>355.0</td>\n",
       "      <td>50.7</td>\n",
       "      <td>60.1</td>\n",
       "    </tr>\n",
       "    <tr>\n",
       "      <th>4</th>\n",
       "      <td>2008</td>\n",
       "      <td>John McCain</td>\n",
       "      <td>Republican</td>\n",
       "      <td>L</td>\n",
       "      <td>239.7</td>\n",
       "      <td>45.6</td>\n",
       "      <td>61.6</td>\n",
       "    </tr>\n",
       "    <tr>\n",
       "      <th>5</th>\n",
       "      <td>2008</td>\n",
       "      <td>Barack Obama</td>\n",
       "      <td>Democrat</td>\n",
       "      <td>W</td>\n",
       "      <td>760.4</td>\n",
       "      <td>52.9</td>\n",
       "      <td>61.6</td>\n",
       "    </tr>\n",
       "    <tr>\n",
       "      <th>6</th>\n",
       "      <td>2012</td>\n",
       "      <td>Mitt Romney</td>\n",
       "      <td>Republican</td>\n",
       "      <td>L</td>\n",
       "      <td>458.7</td>\n",
       "      <td>47.2</td>\n",
       "      <td>58.6</td>\n",
       "    </tr>\n",
       "    <tr>\n",
       "      <th>7</th>\n",
       "      <td>2012</td>\n",
       "      <td>Barack Obama</td>\n",
       "      <td>Democrat</td>\n",
       "      <td>W</td>\n",
       "      <td>737.1</td>\n",
       "      <td>51.1</td>\n",
       "      <td>58.6</td>\n",
       "    </tr>\n",
       "    <tr>\n",
       "      <th>8</th>\n",
       "      <td>2016</td>\n",
       "      <td>Hillary Clinton</td>\n",
       "      <td>Democrat</td>\n",
       "      <td>L</td>\n",
       "      <td>450.6</td>\n",
       "      <td>48.2</td>\n",
       "      <td>60.1</td>\n",
       "    </tr>\n",
       "    <tr>\n",
       "      <th>9</th>\n",
       "      <td>2016</td>\n",
       "      <td>Donald Trump</td>\n",
       "      <td>Republican</td>\n",
       "      <td>W</td>\n",
       "      <td>239.0</td>\n",
       "      <td>46.1</td>\n",
       "      <td>60.1</td>\n",
       "    </tr>\n",
       "  </tbody>\n",
       "</table>\n",
       "</div>"
      ],
      "text/plain": [
       "   Year        Candidate Political Party Election Result  \\\n",
       "0  2000      Albert Gore        Democrat               L   \n",
       "1  2000   George W. Bush      Republican               W   \n",
       "2  2004       John Kerry        Democrat               L   \n",
       "3  2004   George W. Bush      Republican               W   \n",
       "4  2008      John McCain      Republican               L   \n",
       "5  2008     Barack Obama        Democrat               W   \n",
       "6  2012      Mitt Romney      Republican               L   \n",
       "7  2012     Barack Obama        Democrat               W   \n",
       "8  2016  Hillary Clinton        Democrat               L   \n",
       "9  2016     Donald Trump      Republican               W   \n",
       "\n",
       "   Candidate Spending ($1mil)  Final Favorability Rating (%)  \\\n",
       "0                       120.3                           48.4   \n",
       "1                       186.5                           47.9   \n",
       "2                       332.7                           48.3   \n",
       "3                       355.0                           50.7   \n",
       "4                       239.7                           45.6   \n",
       "5                       760.4                           52.9   \n",
       "6                       458.7                           47.2   \n",
       "7                       737.1                           51.1   \n",
       "8                       450.6                           48.2   \n",
       "9                       239.0                           46.1   \n",
       "\n",
       "   Voting-Eligible Population Turnout (%)  \n",
       "0                                    54.2  \n",
       "1                                    54.2  \n",
       "2                                    60.1  \n",
       "3                                    60.1  \n",
       "4                                    61.6  \n",
       "5                                    61.6  \n",
       "6                                    58.6  \n",
       "7                                    58.6  \n",
       "8                                    60.1  \n",
       "9                                    60.1  "
      ]
     },
     "execution_count": 11,
     "metadata": {},
     "output_type": "execute_result"
    }
   ],
   "source": [
    "create_data()"
   ]
  },
  {
   "cell_type": "code",
   "execution_count": null,
   "metadata": {},
   "outputs": [],
   "source": []
  }
 ],
 "metadata": {
  "kernelspec": {
   "display_name": "Python 3",
   "language": "python",
   "name": "python3"
  },
  "language_info": {
   "codemirror_mode": {
    "name": "ipython",
    "version": 3
   },
   "file_extension": ".py",
   "mimetype": "text/x-python",
   "name": "python",
   "nbconvert_exporter": "python",
   "pygments_lexer": "ipython3",
   "version": "3.7.6"
  }
 },
 "nbformat": 4,
 "nbformat_minor": 2
}
